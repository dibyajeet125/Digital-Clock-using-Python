{
 "cells": [
  {
   "cell_type": "code",
   "execution_count": 1,
   "id": "8c0fff8a",
   "metadata": {},
   "outputs": [],
   "source": [
    "import tkinter as ui \n",
    "import time \n",
    "window = ui.Tk() \n",
    "def update_clock(): \n",
    "    hours = time.strftime(\"%I\") \n",
    "    minutes = time.strftime(\"%M\") \n",
    "    seconds = time.strftime(\"%S\") \n",
    "    am_pm = time.strftime(\"%p\") \n",
    "    time_text = hours + \":\" +minutes +\":\"+seconds+\" \"+am_pm \n",
    "    digital_clock_label.config(text=time_text) \n",
    "    digital_clock_label.after(1000,update_clock) \n",
    "    \n",
    "digital_clock_label = ui.Label(window,text=\"00:00:00\",font=\"Helvetica 72 bold\") \n",
    "digital_clock_label.pack() \n",
    "\n",
    "update_clock() \n",
    "window.mainloop()"
   ]
  },
  {
   "cell_type": "code",
   "execution_count": null,
   "id": "f7400f89",
   "metadata": {},
   "outputs": [],
   "source": []
  }
 ],
 "metadata": {
  "kernelspec": {
   "display_name": "Python 3 (ipykernel)",
   "language": "python",
   "name": "python3"
  },
  "language_info": {
   "codemirror_mode": {
    "name": "ipython",
    "version": 3
   },
   "file_extension": ".py",
   "mimetype": "text/x-python",
   "name": "python",
   "nbconvert_exporter": "python",
   "pygments_lexer": "ipython3",
   "version": "3.11.4"
  }
 },
 "nbformat": 4,
 "nbformat_minor": 5
}
